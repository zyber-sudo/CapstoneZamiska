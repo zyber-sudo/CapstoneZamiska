{
 "cells": [
  {
   "cell_type": "code",
   "execution_count": null,
   "metadata": {
    "ExecuteTime": {
     "end_time": "2023-08-02T17:50:46.940086700Z",
     "start_time": "2023-08-02T17:50:46.823429400Z"
    },
    "hideCode": true,
    "hidePrompt": true
   },
   "outputs": [],
   "source": [
    "import pandas as pd\n",
    "import matplotlib.pyplot as plt\n",
    "import plotly.express as px\n",
    "from sklearn.linear_model import LinearRegression\n",
    "from IPython.display import display, HTML\n",
    "import statsmodels.api as sm"
   ]
  },
  {
   "cell_type": "code",
   "execution_count": null,
   "metadata": {
    "ExecuteTime": {
     "end_time": "2023-08-02T17:50:46.982003900Z",
     "start_time": "2023-08-02T17:50:46.827925900Z"
    },
    "hideCode": true,
    "hidePrompt": true
   },
   "outputs": [],
   "source": [
    "plt.close(\"all\")\n",
    "data = pd.read_csv(r\"House_Info.csv\")\n",
    "data = data.reset_index()\n",
    "data['Closing_Date'] = data['Closing_Date'].astype('datetime64[ns]')\n",
    "list_price = data.List_Price\n",
    "sale_price = data.Sold_Price"
   ]
  },
  {
   "cell_type": "code",
   "execution_count": null,
   "metadata": {
    "ExecuteTime": {
     "end_time": "2023-08-02T17:50:46.982003900Z",
     "start_time": "2023-08-02T17:50:46.856847700Z"
    },
    "hideCode": true,
    "hidePrompt": true
   },
   "outputs": [],
   "source": [
    "tableau_embed_code = \"<div class='tableauPlaceholder' id='viz1689010969504' style='position: relative'><noscript><a href='#'><img alt=' ' src='https:&#47;&#47;public.tableau.com&#47;static&#47;images&#47;Pl&#47;PlayGround_16883995622190&#47;HouseProfitablility&#47;1_rss.png' style='border: none' /></a></noscript><object class='tableauViz'  style='display:none;'><param name='host_url' value='https%3A%2F%2Fpublic.tableau.com%2F' /> <param name='embed_code_version' value='3' /> <param name='site_root' value='' /><param name='name' value='PlayGround_16883995622190&#47;HouseProfitablility' /><param name='tabs' value='no' /><param name='toolbar' value='yes' /><param name='static_image' value='https:&#47;&#47;public.tableau.com&#47;static&#47;images&#47;Pl&#47;PlayGround_16883995622190&#47;HouseProfitablility&#47;1.png' /> <param name='animate_transition' value='yes' /><param name='display_static_image' value='yes' /><param name='display_spinner' value='yes' /><param name='display_overlay' value='yes' /><param name='display_count' value='yes' /><param name='language' value='en-US' /></object></div>                <script type='text/javascript'>                    var divElement = document.getElementById('viz1689010969504');                    var vizElement = divElement.getElementsByTagName('object')[0];                    if ( divElement.offsetWidth > 800 ) { vizElement.style.width='1000px';vizElement.style.height='827px';} else if ( divElement.offsetWidth > 500 ) { vizElement.style.width='1000px';vizElement.style.height='827px';} else { vizElement.style.width='100%';vizElement.style.height='1127px';}                     var scriptElement = document.createElement('script');                    scriptElement.src = 'https://public.tableau.com/javascripts/api/viz_v1.js';                    vizElement.parentNode.insertBefore(scriptElement, vizElement);                </script>\"\n",
    "display(HTML(tableau_embed_code))"
   ]
  },
  {
   "cell_type": "code",
   "execution_count": null,
   "metadata": {
    "ExecuteTime": {
     "end_time": "2023-08-02T17:50:46.982972400Z",
     "start_time": "2023-08-02T17:50:46.862785100Z"
    }
   },
   "outputs": [],
   "source": []
  },
  {
   "cell_type": "markdown",
   "metadata": {
    "hideCode": true,
    "hidePrompt": true
   },
   "source": [
    "### Washington County Price Comparison History\n",
    "The above widget is meant to demonstrate and the readable manner the amount of houses that are the same, less than, or more than their listing price comparable to sale price. Another thing is meant to demonstrate is the disparity in that price as shown on the line graph to the right. \n",
    "\n",
    "---\n",
    "\n",
    "##### How to use the Widget\n",
    "\n",
    "- To change the different areas and or year filters you can use the drop box on the top or the check buttons on the right. \n",
    "- One can use to filter the data is by clicking a specific area of the county on the map on the bottom left corner.\n",
    "- To return to the map overview simply select the County that you just selected, or Select the home button on the top left portion of the map widget.\n",
    "\n",
    "> Something to note is that when filtering the years if you leave a gap between a range of years it may cause the data to look mutilated or skewed.\n",
    "\n"
   ]
  },
  {
   "cell_type": "code",
   "execution_count": null,
   "metadata": {
    "ExecuteTime": {
     "end_time": "2023-08-02T17:50:47.164164800Z",
     "start_time": "2023-08-02T17:50:46.867285700Z"
    },
    "hideCode": true,
    "hidePrompt": true
   },
   "outputs": [],
   "source": [
    "fig1 = px.scatter(data, x=\"Closing_Date\", y=data.Sold_Price - data.List_Price,\n",
    "                 labels={\n",
    "                 \"Closing_Date\": \"Closing Date \",\n",
    "                 \"y\" : \"Pricing Differential \"\n",
    "                 }\n",
    "                 )\n",
    "fig1.update_layout(\n",
    "title=\"Listing and Closing Price Differentials\",\n",
    "xaxis_title=\"Year\",\n",
    "yaxis_title=\"Pricing Differential\",\n",
    "paper_bgcolor=\"#fff\",\n",
    "plot_bgcolor=\"#e3e3e3\",\n",
    "font=dict(\n",
    "    family=\"Courier New, monospace\",\n",
    "    size=18,\n",
    "    color=\"#000000\"\n",
    "    )\n",
    ")\n",
    "fig1.update_layout(yaxis_range=[-600000,200000])"
   ]
  },
  {
   "cell_type": "markdown",
   "metadata": {
    "hideCode": true,
    "hidePrompt": true
   },
   "source": [
    "### Washington County Price Differential History\n",
    "- This graph shows the pricing differentials for each individual real estate sale from 2015-2022."
   ]
  },
  {
   "cell_type": "code",
   "execution_count": null,
   "metadata": {
    "ExecuteTime": {
     "end_time": "2023-08-02T17:50:47.239059400Z",
     "start_time": "2023-08-02T17:50:47.165161500Z"
    },
    "hideCode": true,
    "hidePrompt": true
   },
   "outputs": [],
   "source": [
    "fig2 = px.box(data,y=\"Sold_Price\", x= data.Closing_Year)\n",
    "\n",
    "fig2.update_layout(\n",
    "    title=\"Sale Price Box\",\n",
    "    xaxis_title=\"Year\",\n",
    "    yaxis_title=\"Sale Price\",\n",
    "    paper_bgcolor=\"#fff\",\n",
    "    plot_bgcolor=\"#e3e3e3\",\n",
    "    font=dict(\n",
    "        family=\"Courier New, monospace\",\n",
    "        size=18,\n",
    "        color=\"#000000\"\n",
    "        )\n",
    "    )\n",
    "fig2.update_layout(yaxis_range=[0,800000])"
   ]
  },
  {
   "cell_type": "markdown",
   "metadata": {
    "hideCode": true,
    "hidePrompt": true
   },
   "source": [
    "### Washington County Sale Price Statistics\n",
    "- This graph shows a capsule graph demonstrating the rise in sale price from 2015-2022. To view details hover over each section."
   ]
  },
  {
   "cell_type": "code",
   "execution_count": null,
   "metadata": {
    "ExecuteTime": {
     "end_time": "2023-08-02T20:27:47.982262800Z",
     "start_time": "2023-08-02T20:27:47.825225800Z"
    },
    "hideCode": true,
    "hidePrompt": true
   },
   "outputs": [],
   "source": [
    "fig3 = px.scatter(data,y=data.Sold_Price - data.List_Price, x=data.Closing_Year, opacity=0.65,\n",
    "    trendline='ols', trendline_color_override='red',hover_data=['List_Price', 'Sold_Price'],\n",
    "                 labels={\n",
    "                     \"Closing_Year\": \"Closing Year \",\n",
    "                     \"y\" : \"Pricing Differential \",\n",
    "                     \"List_Price\" : \"Listing Price \",\n",
    "                     \"Sold_Price\" : \"Selling Price\"\n",
    "                 }\n",
    ")\n",
    "\n",
    "regression = LinearRegression()\n",
    "fig3.update_layout(\n",
    "    title=\"Linear Regression Testing for Price Difference\",\n",
    "    xaxis_title=\"Year\",\n",
    "    yaxis_title=\"Pricing Differential\",\n",
    "    paper_bgcolor=\"#fff\",\n",
    "    plot_bgcolor=\"#e3e3e3\",\n",
    "    font=dict(\n",
    "        family=\"Courier New, monospace\",\n",
    "        size=18,\n",
    "        color=\"#000000\"\n",
    "        )\n",
    "    )\n",
    "fig3.update_layout(yaxis_range=[-400000,200000])"
   ]
  },
  {
   "cell_type": "markdown",
   "metadata": {
    "hideCode": true,
    "hidePrompt": true
   },
   "source": [
    "\n",
    "### Washington County Sale Price Statistics\n",
    "- This graph is demonstrating the regression line that will help predict the amount of profit/loss depending on the year."
   ]
  },
  {
   "cell_type": "markdown",
   "metadata": {},
   "source": [
    "### Predictive Model for Expected Price Differential\n",
    "- All one must do is input the year and just the predicted price of the house."
   ]
  },
  {
   "cell_type": "code",
   "execution_count": null,
   "metadata": {
    "ExecuteTime": {
     "end_time": "2023-08-02T20:49:24.035188400Z",
     "start_time": "2023-08-02T20:49:17.669261600Z"
    }
   },
   "outputs": [],
   "source": [
    "import pandas as pd\n",
    "X = data.Closing_Year\n",
    "X = sm.add_constant(X)  # Add a constant term to the independent variable\n",
    "y = data.List_Price - data.Sold_Price\n",
    "\n",
    "model = sm.OLS(y, X)\n",
    "results = model.fit()\n",
    "\n",
    "tableau_embed_code = \"<div class='tableauPlaceholder' id='viz1690579731155' style='position: relative'><noscript><a href='#'><img alt='Prediction Dashboard ' src='https:&#47;&#47;public.tableau.com&#47;static&#47;images&#47;Re&#47;RegressionLine_16905797181000&#47;PredictionDashboard&#47;1_rss.png' style='border: none' /></a></noscript><object class='tableauViz'  style='display:none;'><param name='host_url' value='https%3A%2F%2Fpublic.tableau.com%2F' /> <param name='embed_code_version' value='3' /> <param name='site_root' value='' /><param name='name' value='RegressionLine_16905797181000&#47;PredictionDashboard' /><param name='tabs' value='no' /><param name='toolbar' value='yes' /><param name='static_image' value='https:&#47;&#47;public.tableau.com&#47;static&#47;images&#47;Re&#47;RegressionLine_16905797181000&#47;PredictionDashboard&#47;1.png' /> <param name='animate_transition' value='yes' /><param name='display_static_image' value='yes' /><param name='display_spinner' value='yes' /><param name='display_overlay' value='yes' /><param name='display_count' value='yes' /><param name='language' value='en-US' /></object></div>                <script type='text/javascript'>                    var divElement = document.getElementById('viz1690579731155');                    var vizElement = divElement.getElementsByTagName('object')[0];                    if ( divElement.offsetWidth > 800 ) { vizElement.style.width='100%';vizElement.style.maxWidth='2396px';vizElement.style.height=(divElement.offsetWidth*0.75)+'px';vizElement.style.maxHeight='527px';} else if ( divElement.offsetWidth > 500 ) { vizElement.style.width='100%';vizElement.style.maxWidth='2396px';vizElement.style.height=(divElement.offsetWidth*0.75)+'px';vizElement.style.maxHeight='527px';} else { vizElement.style.width='100%';vizElement.style.height='727px';}                     var scriptElement = document.createElement('script');                    scriptElement.src = 'https://public.tableau.com/javascripts/api/viz_v1.js';                    vizElement.parentNode.insertBefore(scriptElement, vizElement);                </script>\"\n",
    "display(HTML(tableau_embed_code))\n",
    "\n",
    "\n",
    "\n",
    "userInput = input(\"Please enter the planned year you will sell your house: (Please only enter a year from 2023 - 2040) \")\n",
    "\n",
    "if int(userInput) < 2023:\n",
    "  print(\"That is to far into the past! \\nPlease re-run this cell with usable year!\")\n",
    "elif int(userInput) > 2040:\n",
    "  print(\"This is too far to give an accurate prediction. \\nPlease re-run this cell with usable year!\")\n",
    "else:\n",
    "    specific_x = int(userInput)\n",
    "    intercept = results.params[0]\n",
    "    intercept_for_specific_x = intercept + results.params[1] * specific_x\n",
    "    if round(intercept_for_specific_x,2) >= 0:\n",
    "        print(f\"If selling your house in the year {specific_x} you will have an expected price increase of ${round(intercept_for_specific_x,2)}\")\n",
    "    else:\n",
    "        print(f\"If selling your house in the year {specific_x} you will have an expected price decrease of ${round(intercept_for_specific_x,2)}\")\n",
    "\n",
    "\n",
    "\n",
    "\n"
   ]
  },
  {
   "cell_type": "markdown",
   "metadata": {},
   "source": [
    "### Predictive Model for Expected Price Differential\n",
    "- This graph is demonstrating the regression line that will help predict the amount of profit/loss depending on the year.\n",
    "\n",
    "- All one must do is input the year you plan on making the sale in and the program will show the differential you should expect price wise."
   ]
  },
  {
   "cell_type": "code",
   "execution_count": null,
   "metadata": {
    "ExecuteTime": {
     "end_time": "2023-08-02T20:13:49.529404400Z",
     "start_time": "2023-08-02T20:13:49.458370500Z"
    }
   },
   "outputs": [],
   "source": []
  },
  {
   "cell_type": "code",
   "execution_count": null,
   "metadata": {},
   "outputs": [],
   "source": []
  },
  {
   "cell_type": "code",
   "execution_count": null,
   "metadata": {},
   "outputs": [],
   "source": []
  },
  {
   "cell_type": "code",
   "execution_count": null,
   "metadata": {},
   "outputs": [],
   "source": []
  }
 ],
 "metadata": {
  "celltoolbar": "Hide code",
  "hide_code_all_hidden": true,
  "kernelspec": {
   "display_name": "Python 3 (ipykernel)",
   "language": "python",
   "name": "python3"
  },
  "language_info": {
   "codemirror_mode": {
    "name": "ipython",
    "version": 3
   },
   "file_extension": ".py",
   "mimetype": "text/x-python",
   "name": "python",
   "nbconvert_exporter": "python",
   "pygments_lexer": "ipython3",
   "version": "3.11.3"
  }
 },
 "nbformat": 4,
 "nbformat_minor": 4
}
